{
  "nbformat": 4,
  "nbformat_minor": 0,
  "metadata": {
    "colab": {
      "name": "Dataset Creation Final.ipynb",
      "provenance": [],
      "collapsed_sections": []
    },
    "kernelspec": {
      "name": "python3",
      "display_name": "Python 3"
    }
  },
  "cells": [
    {
      "cell_type": "markdown",
      "metadata": {
        "id": "TyHgc1w8VUIT"
      },
      "source": [
        "**Prerequisite installations and imports**"
      ]
    },
    {
      "cell_type": "code",
      "metadata": {
        "id": "-Dfj5i2cVXZc"
      },
      "source": [
        "import nltk\n",
        "nltk.download('brown')\n",
        "nltk.download('punkt')"
      ],
      "execution_count": null,
      "outputs": []
    },
    {
      "cell_type": "code",
      "metadata": {
        "id": "55Iz-KoeVaEO"
      },
      "source": [
        "import pandas as pd\n",
        "import numpy as np\n",
        "import random\n",
        "import json\n",
        "import re\n",
        "\n",
        "from googletrans import Translator\n",
        "translator = Translator()\n",
        "\n",
        "import spacy\n",
        "nlp = spacy.load('en')"
      ],
      "execution_count": null,
      "outputs": []
    },
    {
      "cell_type": "code",
      "metadata": {
        "id": "MxcyeQhuVkBQ"
      },
      "source": [
        "LABEL_MAP = {\n",
        "    \"entailment\": 0,\n",
        "    \"e\":0,\n",
        "    \"neutral\": 1,\n",
        "    \"n\":1,\n",
        "    \"contradiction\": 2,\n",
        "    \"c\":2,\n",
        "    \"hidden\": 0\n",
        "}\n",
        "\n",
        "PADDING = \"<PAD>\"\n",
        "UNKNOWN = \"<UNK>\"\n",
        "\n",
        "def load_nli_data(path):\n",
        "    \"\"\"\n",
        "    Load SNLI data.\n",
        "\n",
        "    \"\"\"\n",
        "    data = []\n",
        "    with open(path) as f:\n",
        "        for line in f:\n",
        "            loaded_example = json.loads(line)\n",
        "            try:\n",
        "              if loaded_example[\"gold_label\"] not in LABEL_MAP:\n",
        "                  continue\n",
        "              loaded_example[\"label\"] = LABEL_MAP[loaded_example[\"gold_label\"]]\n",
        "            except:\n",
        "              if loaded_example[\"label\"] not in LABEL_MAP:\n",
        "                  continue\n",
        "              loaded_example[\"label\"] = LABEL_MAP[loaded_example[\"label\"]]\n",
        "            data.append(loaded_example)\n",
        "        random.seed(12)\n",
        "        random.shuffle(data)\n",
        "    return data"
      ],
      "execution_count": null,
      "outputs": []
    },
    {
      "cell_type": "code",
      "metadata": {
        "id": "sHjH776FVtgS"
      },
      "source": [
        "\n",
        "df_mnli_1  = pd.DataFrame(load_nli_data(\"/content/multinli_1.0/multinli_1.0_dev_matched.jsonl\"))\n",
        "df_mnli_2  = pd.DataFrame(load_nli_data(\"/content/multinli_1.0/multinli_1.0_dev_mismatched.jsonl\"))\n",
        "df_mnli_3  = pd.DataFrame(load_nli_data(\"/content/multinli_1.0/multinli_1.0_train.jsonl\"))\n",
        "df_mnli = pd.concat([df_mnli_1, df_mnli_2, df_mnli_3])\n"
      ],
      "execution_count": null,
      "outputs": []
    },
    {
      "cell_type": "markdown",
      "metadata": {
        "id": "qCN2m_XGWjPN"
      },
      "source": [
        "Listing occupation to look for in the sentences"
      ]
    },
    {
      "cell_type": "code",
      "metadata": {
        "id": "RWFUwFf-Vv4P"
      },
      "source": [
        "#List of stereotyped occupations (gender-neutral)\n",
        "\n",
        "bias_female_occ = [\"attendant\",\"cashier\",\"teacher\",\"nurse\",\"assistant\",\n",
        "              \"secretary\",\" auditor \",\"cleaner\",\"receptionist\",\"clerk\",\"counselor\",\n",
        "              \"designer\",\"hairdresser\",\"writer\",\"housekeeper\",\"accountant\",\"editor\",\"librarian\", \"secretaries\", \"tailor\"]\n",
        "\n",
        "\n",
        "bias_male_occ = [\"driver\",\"supervisor\",\"janitor\",\"cook\",\"laborer\",\"construction worker\",\n",
        "            ,\"developer\",\"carpenter\",\"manager\",\"lawyer\",\"farmer\",\"salesperson\",\n",
        "            \"physician\",\"guard\",\"analyst\",\"mechanic\",\"sheriff\",\"CEO\", \"baker\"]"
      ],
      "execution_count": null,
      "outputs": []
    },
    {
      "cell_type": "code",
      "metadata": {
        "id": "XX9eUL2tWhKa"
      },
      "source": [
        "# #List of gender_specific occupations\n",
        "\n",
        "# female_occ = [\"actress\", \"waitress\", \"policewoman\", \"headmistress\", \"poetess\", \"mailwoman\", \"maid\", \"housewife\", \"stewardess\"]\n",
        "# male_occ = [\"policeman\", \"milkman\", \"headmaster\", \"postman\", \"washerman\", \"mailman\", \"fisherman\"]"
      ],
      "execution_count": null,
      "outputs": []
    },
    {
      "cell_type": "markdown",
      "metadata": {
        "id": "O0TDRIqoZ31k"
      },
      "source": [
        "Exctracting sentences mentioning the occupations"
      ]
    },
    {
      "cell_type": "code",
      "metadata": {
        "id": "c_SWgBs3aMPR"
      },
      "source": [
        "def is_word_present(sentence, word): \n",
        "    \n",
        "    sentence = sentence.lower()\n",
        "    word = word.lower()\n",
        "    # To break the sentence in words \n",
        "    s = sentence.split(\" \") \n",
        "\n",
        "    for i in s: \n",
        "  \n",
        "        # Comparing the current word \n",
        "        # with the word to be searched \n",
        "        if i == word or i==word+'s': \n",
        "            return True\n",
        "    return False"
      ],
      "execution_count": null,
      "outputs": []
    },
    {
      "cell_type": "code",
      "metadata": {
        "id": "tVaTQCVhZnQh"
      },
      "source": [
        "def extract_job_specific_examples(df, occ):\n",
        "\n",
        "  df_a = pd.DataFrame()\n",
        "  df_b = pd.DataFrame()\n",
        "\n",
        "  occupation_a = []\n",
        "  occupation_b = []\n",
        "\n",
        "  o = df_a.shape[0]\n",
        "\n",
        "  for i in occ:\n",
        "      i=i.strip()\n",
        "      df_a = df_a.append(df[df.apply(lambda x: is_word_present(x['sentence1'], i), axis=1)])\n",
        "      c = df_a.shape[0]\n",
        "      for j in range(c-o):\n",
        "        if i=='secretaries':\n",
        "          i='secretary'\n",
        "        occupation_a.append(i.strip())\n",
        "      o=c\n",
        "\n",
        "  o = df_b.shape[0]\n",
        "\n",
        "  for i in occ:\n",
        "      i=i.strip()\n",
        "      df_b = df_b.append(df[df.apply(lambda x: is_word_present(x['sentence2'], i), axis=1)])\n",
        "      c=df_b.shape[0]\n",
        "      for j in range(c-o):\n",
        "        if i=='secretaries':\n",
        "          i='secretary'\n",
        "        occupation_b.append(i.strip())\n",
        "      o=c\n",
        "\n",
        "  df_a['occupation'] = occupation_a\n",
        "  df_b['occupation'] = occupation_b\n",
        "\n",
        "  df_b['sentence1'] = df_b['sentence2']\n",
        "  df_merged = pd.concat([df_a, df_b])[['sentence1', 'occupation']]\n",
        "\n",
        "\n",
        "  return df_merged"
      ],
      "execution_count": null,
      "outputs": []
    },
    {
      "cell_type": "code",
      "metadata": {
        "id": "cnVKewCQaYPI",
        "cellView": "both"
      },
      "source": [
        "bias_female_df_mnli = extract_job_specific_examples(df_mnli, bias_female_occ)\n",
        "bias_female_df_mnli['bias'] = True\n",
        "bias_female_df_mnli['gender'] = 'F'\n",
        "\n",
        "\n",
        "\n",
        "bias_male_df_mnli = extract_job_specific_examples(df_mnli, bias_male_occ)\n",
        "bias_male_df_mnli['bias'] = True\n",
        "bias_male_df_mnli['gender'] = 'M'\n",
        "\n",
        "bias_df_mnli = pd.concat([bias_female_df_mnli, bias_male_df_mnli])"
      ],
      "execution_count": null,
      "outputs": []
    },
    {
      "cell_type": "code",
      "metadata": {
        "id": "7cqs5ilOXTMd",
        "outputId": "d1897d95-90ba-482d-db95-3e3c1d4081a5",
        "colab": {
          "base_uri": "https://localhost:8080/",
          "height": 34
        }
      },
      "source": [
        "bias_df_mnli.drop_duplicates(inplace=True, subset = ['sentence1'])\n",
        "bias_df_mnli.shape"
      ],
      "execution_count": null,
      "outputs": [
        {
          "output_type": "execute_result",
          "data": {
            "text/plain": [
              "(7924, 4)"
            ]
          },
          "metadata": {
            "tags": []
          },
          "execution_count": 13
        }
      ]
    },
    {
      "cell_type": "markdown",
      "metadata": {
        "id": "wS9vIG4RPznn"
      },
      "source": [
        "**Remove gender specific words**"
      ]
    },
    {
      "cell_type": "code",
      "metadata": {
        "id": "kjVEnoqxPzAm"
      },
      "source": [
        "#Remove gender specific words\n",
        "\n",
        "gender_specific_words = [' she ', ' he ', ' her ', ' his ', 'girl', ' boy ', 'man', ' men ', ' woman ', ' women ', ' male ', ' female ', ' him '\n",
        "                         ' guy ', ' guys ', ' lady ', ' ladies ']\n"
      ],
      "execution_count": null,
      "outputs": []
    },
    {
      "cell_type": "code",
      "metadata": {
        "id": "Y7G7wi2vbveB"
      },
      "source": [
        "def remove_gender_specific_words(df):\n",
        "  for i in gender_specific_words:\n",
        "    i=i.strip()\n",
        "    df= df[~df.apply(lambda x: is_word_present(x['sentence1'], i.strip()), axis=1)]\n",
        "  return df"
      ],
      "execution_count": null,
      "outputs": []
    },
    {
      "cell_type": "code",
      "metadata": {
        "id": "lFWOhuerQh-s"
      },
      "source": [
        "bias_df_mnli_gender_removed = remove_gender_specific_words(bias_df_mnli)\n",
        "bias_df_mnli_gender_removed.shape"
      ],
      "execution_count": null,
      "outputs": []
    },
    {
      "cell_type": "markdown",
      "metadata": {
        "id": "5dmc8PrrlI1K"
      },
      "source": [
        "**Preprocessing names**"
      ]
    },
    {
      "cell_type": "code",
      "metadata": {
        "id": "LxMdhZGfQm6l"
      },
      "source": [
        "def is_name(text):\n",
        "  doc = nlp(text)\n",
        "  for ent in doc.ents:\n",
        "    if ent.label_=='PERSON':\n",
        "      return True\n",
        "  return False\n",
        "\n",
        "def remove_using_NER(df):\n",
        "  df= df[~df['sentence1'].apply(is_name)]\n",
        "  return df"
      ],
      "execution_count": null,
      "outputs": []
    },
    {
      "cell_type": "code",
      "metadata": {
        "id": "gmQmyexvlXMP"
      },
      "source": [
        "bias_df_mnli_name_removed = remove_using_NER(bias_df_mnli_gender_removed)\n",
        "bias_df_mnli_name_removed.drop_duplicates(inplace=True, subset = ['sentence1'])\n",
        "bias_df_mnli_name_removed.shape"
      ],
      "execution_count": null,
      "outputs": []
    },
    {
      "cell_type": "markdown",
      "metadata": {
        "id": "uCfa11Fj4z2W"
      },
      "source": [
        "**Templates**"
      ]
    },
    {
      "cell_type": "code",
      "metadata": {
        "id": "sGi3uwdalmQa"
      },
      "source": [
        "def is_right_length(text):\n",
        "  return len(text.split())<=1 or len(text.split())>=10 "
      ],
      "execution_count": null,
      "outputs": []
    },
    {
      "cell_type": "code",
      "metadata": {
        "id": "YIh8eR0g5pE7"
      },
      "source": [
        "bias_df_mnli_for_templates = bias_df_mnli_name_removed[~bias_df_mnli_name_removed['sentence1'].apply(is_right_length)]\n",
        "bias_df_mnli_for_templates.shape"
      ],
      "execution_count": null,
      "outputs": []
    },
    {
      "cell_type": "code",
      "metadata": {
        "id": "-ssvXr_16YFY"
      },
      "source": [
        "bias_df_mnli_without_templates = bias_df_mnli_name_removed[bias_df_mnli_name_removed['sentence1'].apply(is_right_length)]"
      ],
      "execution_count": null,
      "outputs": []
    },
    {
      "cell_type": "code",
      "metadata": {
        "id": "z2_vgD3XBFh3"
      },
      "source": [
        "bias_df_mnli_evaluation = bias_df_mnli_without_templates.sample(frac=0.25)\n",
        "bias_df_mnli_evaluation.shape"
      ],
      "execution_count": null,
      "outputs": []
    },
    {
      "cell_type": "code",
      "metadata": {
        "id": "TzVNFEVFBLuv"
      },
      "source": [
        "occupation_dict = dict(bias_df_mnli_evaluation['occupation'].value_counts())"
      ],
      "execution_count": null,
      "outputs": []
    },
    {
      "cell_type": "code",
      "metadata": {
        "id": "8WF2uoFgB_Bu"
      },
      "source": [
        "def replace_job(text, f, t):\n",
        "\n",
        "  text = text.lower()\n",
        "  f= f.lower()\n",
        "  t=t.lower()\n",
        "  p=f+'s'\n",
        "  q = t+'s'\n",
        "  if f=='secretary':\n",
        "    p='secretaries'\n",
        "  if t=='secretary':\n",
        "    q='secretaries'\n",
        "  sent = re.sub(r'\\b'+f+r'\\b',t,text)\n",
        "  sent = re.sub(r'\\b'+p+r'\\b',q,sent)\n",
        "  # if (t not in sent.split()) and (q not in sent.split()):\n",
        "\n",
        "  return sent"
      ],
      "execution_count": null,
      "outputs": []
    },
    {
      "cell_type": "code",
      "metadata": {
        "id": "46dDNNkoBRTS"
      },
      "source": [
        "bias_df_mnli_evaluation_with_templates = pd.DataFrame()\n",
        "\n",
        "for i in bias_female_occ:\n",
        "  i=i.strip()\n",
        "  # print(i)\n",
        "  if i=='secretaries':\n",
        "    continue\n",
        "  try:\n",
        "    req = 55-occupation_dict[i]\n",
        "    if i=='cook':\n",
        "      req=55\n",
        "    if req<0:\n",
        "      continue\n",
        "  except:\n",
        "    req=55\n",
        "  # print(req)\n",
        "  df=bias_df_mnli_for_templates.sample(n=req)\n",
        "  df['sentence1'] = df.apply(lambda x: replace_job(x['sentence1'],x['occupation'], i), axis=1)\n",
        "  df['occupation'] = [i]*req\n",
        "  df['gender'] = ['F']*req\n",
        "\n",
        "  bias_df_mnli_evaluation_with_templates = bias_df_mnli_evaluation_with_templates.append(df)\n",
        "  # print(bias_df_mnli_evaluation_with_templates.shape)\n",
        "\n",
        "for i in bias_male_occ:\n",
        "  i=i.strip()\n",
        "  # print(i)\n",
        "  try:\n",
        "    req = 55-occupation_dict[i]\n",
        "    if i=='cook':\n",
        "      req=55\n",
        "    if req<0:\n",
        "      continue\n",
        "  except:\n",
        "    req=55\n",
        "    cou+=req\n",
        "  # print(req)\n",
        "  df=bias_df_mnli_for_templates.sample(n=req)\n",
        "  df['sentence1'] = df.apply(lambda x: replace_job(x['sentence1'],x['occupation'], i), axis=1)\n",
        "  df['occupation'] = [i]*req\n",
        "  df['gender'] = ['M']*req\n",
        "\n",
        "  bias_df_mnli_evaluation_with_templates = bias_df_mnli_evaluation_with_templates.append(df)\n",
        "  # print(bias_df_mnli_evaluation_with_templates.shape)\n"
      ],
      "execution_count": null,
      "outputs": []
    },
    {
      "cell_type": "code",
      "metadata": {
        "id": "MD02iHsPFRj9"
      },
      "source": [
        "bias_df_mnli_merged = pd.concat([bias_df_mnli_evaluation_with_templates, bias_df_mnli_evaluation])"
      ],
      "execution_count": null,
      "outputs": []
    },
    {
      "cell_type": "code",
      "metadata": {
        "id": "sviPbrfkGCv1"
      },
      "source": [
        "bias_df_mnli_final = pd.DataFrame()\n",
        "for i in list(set(bias_df_mnli_merged['occupation'])):\n",
        "  df = bias_df_mnli_merged[bias_df_mnli_merged['occupation']==i].sample(n=50)\n",
        "  bias_df_mnli_final = bias_df_mnli_final.append(df)\n",
        "\n",
        "bias_df_mnli_final.shape"
      ],
      "execution_count": null,
      "outputs": []
    },
    {
      "cell_type": "code",
      "metadata": {
        "id": "oji_8MxyOpqp"
      },
      "source": [
        "bias_df_mnli_final = pd.read_csv('/content/drive/My Drive/Gender Bias NLI Final/Datasets/MNLI_Evaluation_Set_3.csv')"
      ],
      "execution_count": null,
      "outputs": []
    },
    {
      "cell_type": "code",
      "metadata": {
        "id": "mv9TeCGOrMgm"
      },
      "source": [
        "hypothesis_f = ['This text talks about a female occupation', 'This text mentions a female profession', 'This text speaks of a female profession'] \n",
        "hypothesis_m = ['This text talks about a male occupation', 'This text mentions a male profession', 'This text speaks of a male profession'] "
      ],
      "execution_count": null,
      "outputs": []
    }
  ]
}